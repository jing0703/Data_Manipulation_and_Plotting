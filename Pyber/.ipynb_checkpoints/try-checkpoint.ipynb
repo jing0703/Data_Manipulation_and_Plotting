{
 "cells": [
  {
   "cell_type": "code",
   "execution_count": null,
   "metadata": {},
   "outputs": [],
   "source": [
    "Urban_rides = df1.loc[df1['City Type'] =='Urban',['Total Number of Rides']]\n",
    "Urban_fare = df1.loc[df1['City Type'] =='Urban',['Average Fare ($)']]\n",
    "Urban_driver = df1.loc[df1['City Type'] =='Urban',['Total Number of Drivers']]\n",
    "Suburban_rides = df1.loc[df1['City Type'] =='Suburban',['Total Number of Rides']]\n",
    "Suburban_fare = df1.loc[df1['City Type'] =='Suburban',['Average Fare ($)']]\n",
    "Suburban_driver = df1.loc[df1['City Type'] =='Suburban',['Total Number of Drivers']]\n",
    "Rural_rides = df1.loc[df1['City Type'] =='Rural',['Total Number of Rides']]\n",
    "Rural_fare = df1.loc[df1['City Type'] =='Rural',['Average Fare ($)']]\n",
    "Rural_driver = df1.loc[df1['City Type'] =='Rural',['Total Number of Drivers']]"
   ]
  },
  {
   "cell_type": "code",
   "execution_count": null,
   "metadata": {},
   "outputs": [],
   "source": [
    "Urban =plt.scatter(Urban_rides, Urban_fare, s=5*Urban_driver, c='coral', label='Urban', cmap='viridis',alpha=0.5,edgecolors=\"black\",linewidth=2)\n",
    "Suburban =plt.scatter(Suburban_rides, Suburban_fare, s=5*Suburban_driver, c='blue', label='Suburban', cmap='viridis',alpha=0.5,edgecolors=\"black\",linewidth=2)\n",
    "Rural =plt.scatter(Rural_rides, Rural_fare, s=5*Rural_driver, c='gold', label='Rural', cmap='viridis',alpha=0.5,edgecolors=\"black\",linewidth=2)\n",
    "#plt.xlim(0,df1['Total Number of Rides'].max()+1)\n",
    "#plt.ylim(0,df1['Average Fare ($)'].max()+1)\n",
    "plt.xlabel(\"Total Number of Rides(Per City)\")\n",
    "plt.ylabel(\"Average Fare ($)\")\n",
    "plt.title(\"Pyber Ride Sharing Data(2016)\")\n",
    "plt.legend()\n",
    "\n",
    "plt.show()"
   ]
  },
  {
   "cell_type": "code",
   "execution_count": null,
   "metadata": {},
   "outputs": [],
   "source": [
    "fig, axes = plt.subplots()\n",
    "\n",
    "axes1 =axes.scatter(Urban_rides, Urban_fare, s=5*Urban_driver, c='coral',label='Urban', cmap='viridis',alpha=0.8,edgecolors=\"black\",linewidth=2)\n",
    "axes2 =axes.scatter(Suburban_rides, Suburban_fare, s=5*Suburban_driver, c='blue',label='Suburban', cmap='viridis',alpha=0.8,edgecolors=\"black\",linewidth=2)\n",
    "axes3 =axes.scatter(Rural_rides, Rural_fare, s=5*Rural_driver, c='gold',label='Rural', cmap='viridis',alpha=0.8,edgecolors=\"black\",linewidth=2)\n",
    "\n",
    "axes.set_xlabel('Total Number of Rides(Per City)')\n",
    "axes.set_ylabel('Average Fare ($)')\n",
    "axes.set_title('Pyber Ride Sharing Data(2016)')\n",
    "\n",
    "plt.show()"
   ]
  }
 ],
 "metadata": {
  "kernelspec": {
   "display_name": "Python 3",
   "language": "python",
   "name": "python3"
  },
  "language_info": {
   "codemirror_mode": {
    "name": "ipython",
    "version": 3
   },
   "file_extension": ".py",
   "mimetype": "text/x-python",
   "name": "python",
   "nbconvert_exporter": "python",
   "pygments_lexer": "ipython3",
   "version": "3.6.4"
  }
 },
 "nbformat": 4,
 "nbformat_minor": 2
}
